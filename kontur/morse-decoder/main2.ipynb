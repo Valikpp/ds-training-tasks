{
 "cells": [
  {
   "cell_type": "code",
   "execution_count": 4,
   "id": "3604fe09-049a-494d-aaab-c63753ac2ed3",
   "metadata": {},
   "outputs": [],
   "source": [
    "import numpy as np\n",
    "import pandas as pd\n",
    "%matplotlib inline\n",
    "import matplotlib.pyplot as plt\n",
    "import seaborn as sns\n",
    "np.complex = complex"
   ]
  },
  {
   "cell_type": "code",
   "execution_count": 5,
   "id": "aa065886-4375-4532-af0b-cc1b7f40761a",
   "metadata": {},
   "outputs": [],
   "source": [
    "import torch\n",
    "from torch import nn\n",
    "import librosa\n",
    "import soundfile as sf\n",
    "import os"
   ]
  },
  {
   "cell_type": "code",
   "execution_count": 6,
   "id": "a5f796b4-5446-4753-8273-3b891d9b30ce",
   "metadata": {},
   "outputs": [],
   "source": [
    "sns.set(rc={\"figure.figsize\":(9,6)})"
   ]
  },
  {
   "cell_type": "code",
   "execution_count": 7,
   "id": "afe79a7b-5d1d-4f9e-8d4f-7192add5221d",
   "metadata": {},
   "outputs": [],
   "source": [
    "data = pd.read_csv(\"train.csv\")"
   ]
  },
  {
   "cell_type": "code",
   "execution_count": 8,
   "id": "160ddc0a-13a8-40af-97e1-42a954966844",
   "metadata": {},
   "outputs": [
    {
     "data": {
      "text/html": [
       "<div>\n",
       "<style scoped>\n",
       "    .dataframe tbody tr th:only-of-type {\n",
       "        vertical-align: middle;\n",
       "    }\n",
       "\n",
       "    .dataframe tbody tr th {\n",
       "        vertical-align: top;\n",
       "    }\n",
       "\n",
       "    .dataframe thead th {\n",
       "        text-align: right;\n",
       "    }\n",
       "</style>\n",
       "<table border=\"1\" class=\"dataframe\">\n",
       "  <thead>\n",
       "    <tr style=\"text-align: right;\">\n",
       "      <th></th>\n",
       "      <th>id</th>\n",
       "      <th>message</th>\n",
       "    </tr>\n",
       "  </thead>\n",
       "  <tbody>\n",
       "    <tr>\n",
       "      <th>0</th>\n",
       "      <td>1.opus</td>\n",
       "      <td>03ЩУЫЛПИГХ</td>\n",
       "    </tr>\n",
       "    <tr>\n",
       "      <th>1</th>\n",
       "      <td>2.opus</td>\n",
       "      <td>ЪЛТ0ДС6А3Г</td>\n",
       "    </tr>\n",
       "    <tr>\n",
       "      <th>2</th>\n",
       "      <td>3.opus</td>\n",
       "      <td>5ЭКЫБЗХЯН</td>\n",
       "    </tr>\n",
       "    <tr>\n",
       "      <th>3</th>\n",
       "      <td>4.opus</td>\n",
       "      <td>ЖЫЦОИ68КФ</td>\n",
       "    </tr>\n",
       "    <tr>\n",
       "      <th>4</th>\n",
       "      <td>5.opus</td>\n",
       "      <td>32Ю7МЫ ЗЛ</td>\n",
       "    </tr>\n",
       "  </tbody>\n",
       "</table>\n",
       "</div>"
      ],
      "text/plain": [
       "       id     message\n",
       "0  1.opus  03ЩУЫЛПИГХ\n",
       "1  2.opus  ЪЛТ0ДС6А3Г\n",
       "2  3.opus   5ЭКЫБЗХЯН\n",
       "3  4.opus   ЖЫЦОИ68КФ\n",
       "4  5.opus   32Ю7МЫ ЗЛ"
      ]
     },
     "execution_count": 8,
     "metadata": {},
     "output_type": "execute_result"
    }
   ],
   "source": [
    "data.head()"
   ]
  },
  {
   "cell_type": "code",
   "execution_count": 9,
   "id": "7640ac72-dfe2-4184-94c0-c090717679f0",
   "metadata": {},
   "outputs": [],
   "source": [
    "all_text = \"\".join(data[\"message\"].astype(str).tolist())\n",
    "unique_chars = sorted(set(all_text))\n",
    "blank_token = \"_\"\n",
    "vocab = [blank_token] + unique_chars\n",
    "char2idx = {c: i for i, c in enumerate(vocab)}\n",
    "idx2char = {i: c for c, i in char2idx.items()}"
   ]
  },
  {
   "cell_type": "code",
   "execution_count": 10,
   "id": "bb16de23-201e-4fa4-a84e-9da265f0b878",
   "metadata": {},
   "outputs": [
    {
     "name": "stdout",
     "output_type": "stream",
     "text": [
      "Mel-spectrogram time: 1.520s\n"
     ]
    }
   ],
   "source": [
    "# Extract Tensor\n",
    "def extract_mel_spectrogram(path, sr=8000, n_mels=64, n_fft=512, hop_length=128):\n",
    "    y, _ = librosa.load(path, sr=sr)\n",
    "\n",
    "    y, _ = librosa.effects.trim(y, top_db=30)\n",
    "    y = y / (np.max(np.abs(y)) + 1e-6)\n",
    "    mel = librosa.feature.melspectrogram(\n",
    "        y=y, sr=sr,\n",
    "        n_fft=n_fft,\n",
    "        hop_length=hop_length,\n",
    "        n_mels=n_mels\n",
    "    )\n",
    "    mel_db = librosa.power_to_db(mel, ref=np.max, top_db=40)\n",
    "    return torch.from_numpy(mel_db).unsqueeze(0).float()\n",
    "\n",
    "import time\n",
    "\n",
    "# Замер времени для одного аудиофайла\n",
    "start = time.time()\n",
    "spec = extract_mel_spectrogram(\"morse_dataset/morse_dataset/34999.opus\")\n",
    "print(f\"Mel-spectrogram time: {time.time() - start:.3f}s\")"
   ]
  },
  {
   "cell_type": "code",
   "execution_count": null,
   "id": "729f175e-5571-442b-8b24-90c463ce8472",
   "metadata": {},
   "outputs": [
    {
     "name": "stderr",
     "output_type": "stream",
     "text": [
      "100%|█████████████████████████████████████| 35000/35000 [23:54<00:00, 24.41it/s]\n"
     ]
    }
   ],
   "source": [
    "from tqdm import tqdm\n",
    "\n",
    "def extract_mel_spectrogram(path, sr=8000, n_mels=64, n_fft=512, hop_length=128, max_len=512):\n",
    "    y, _ = librosa.load(path, sr=sr)\n",
    "    y, _ = librosa.effects.trim(y, top_db=30)\n",
    "    y = y / (np.max(np.abs(y)) + 1e-6)\n",
    "    mel = librosa.feature.melspectrogram(\n",
    "        y=y, sr=sr,\n",
    "        n_fft=n_fft,\n",
    "        hop_length=hop_length,\n",
    "        n_mels=n_mels\n",
    "    )\n",
    "    mel_db = librosa.power_to_db(mel, ref=np.max, top_db=40)\n",
    "\n",
    "    \n",
    "    if mel_db.shape[1] < max_len:\n",
    "        pad_width = max_len - mel_db.shape[1]\n",
    "        mel_db = np.pad(mel_db, ((0, 0), (0, pad_width)), mode='constant')\n",
    "    else:\n",
    "        mel_db = mel_db[:, :max_len]\n",
    "        \n",
    "    return mel_db.astype(np.float32)  # (n_mels, max_len)\n",
    "\n",
    "# Папка с файлами\n",
    "input_folder = \"morse_dataset/morse_dataset/\"\n",
    "\n",
    "# Параметры\n",
    "max_len = 512\n",
    "mel_list = []\n",
    "file_names = []\n",
    "\n",
    "# Файлы\n",
    "file_list = [f for f in os.listdir(input_folder) if f.endswith(\".opus\")]\n",
    "file_list.sort()\n",
    "\n",
    "for filename in tqdm(file_list):\n",
    "    path = os.path.join(input_folder, filename)\n",
    "    try:\n",
    "        mel = extract_mel_spectrogram(path, max_len=max_len)\n",
    "        mel_list.append(mel)  # shape: [64, 512]\n",
    "        file_names.append(filename)\n",
    "    except Exception as e:\n",
    "        print(f\"❌ Ошибка при обработке {filename}: {e}\")\n",
    "\n",
    "# Теперь всё у нас в памяти:\n",
    "# numpy array (для быстрой работы):\n",
    "mel_array = np.stack(mel_list)  # shape: [N, 64, 512]\n",
    "\n",
    "# если нужно в DataFrame:\n",
    "import pandas as pd\n",
    "df = pd.DataFrame({\n",
    "    \"filename\": file_names,\n",
    "    \"mel\": mel_list  # каждая строка — np.array([64, 512])\n",
    "})\n",
    "\n",
    "print(\"✅ Готово! Кол-во спектрограмм:\", len(df))"
   ]
  },
  {
   "cell_type": "code",
   "execution_count": 1,
   "id": "547d49bb-6792-4785-acdd-62a91bd2165e",
   "metadata": {},
   "outputs": [],
   "source": [
    "from torch.utils.data import Dataset\n",
    "import torch\n",
    "\n",
    "class MorseDataset(Dataset):\n",
    "    def __init__(self, mel_array, filenames, csv_path, char2idx):\n",
    "        \"\"\"\n",
    "        mel_array: numpy array [N, 64, 512] или torch.Tensor [N, 64, 512]\n",
    "        filenames: список имён файлов в том же порядке, что и mel_array\n",
    "        csv_path: путь к train.csv с полем id и message\n",
    "        char2idx: словарь преобразования символов в индексы\n",
    "        \"\"\"\n",
    "        self.df = pd.read_csv(csv_path)\n",
    "        self.mel_array = torch.from_numpy(mel_array).float() if isinstance(mel_array, np.ndarray) else mel_array\n",
    "        self.filenames = filenames\n",
    "        self.char2idx = char2idx\n",
    "\n",
    "        # мапим filename -> индекс в mel_array\n",
    "        self.name_to_idx = {fname: i for i, fname in enumerate(filenames)}\n",
    "\n",
    "    def __len__(self):\n",
    "        return len(self.df)\n",
    "\n",
    "    def __getitem__(self, idx):\n",
    "        row = self.df.iloc[idx]\n",
    "        fname = row[\"id\"]\n",
    "        text = row[\"message\"]\n",
    "\n",
    "        mel_idx = self.name_to_idx.get(fname, None)\n",
    "        if mel_idx is None:\n",
    "            raise ValueError(f\"Файл {fname} не найден в массиве спектрограмм\")\n",
    "\n",
    "        spec = self.mel_array[mel_idx]  # [64, 512]\n",
    "        target = torch.tensor([self.char2idx[c] for c in text], dtype=torch.long)\n",
    "        return spec, target"
   ]
  },
  {
   "cell_type": "code",
   "execution_count": 2,
   "id": "c71693e7-a300-482d-8b4e-507e108b8709",
   "metadata": {},
   "outputs": [],
   "source": [
    "def collate_fn(batch):\n",
    "    specs, targets = zip(*batch)\n",
    "    # длины по времени\n",
    "    spec_lens = torch.tensor([s.shape[-1] for s in specs], dtype=torch.long)\n",
    "    # паддим спектрограммы до max T\n",
    "    # сначала меняем shape [1, n_mels, T] → [T, n_mels] для pad_sequence\n",
    "    specs_seq = [s.squeeze(0).transpose(0,1) for s in specs]\n",
    "    specs_padded = pad_sequence(specs_seq, batch_first=True)  \n",
    "    # обратно в [B, 1, n_mels, T_max]\n",
    "    specs_padded = specs_padded.transpose(1,2).unsqueeze(1)\n",
    "\n",
    "    # таргеты\n",
    "    target_lens = torch.tensor([t.numel() for t in targets], dtype=torch.long)\n",
    "    targets_concat = torch.cat(targets)\n",
    "\n",
    "    return specs_padded, spec_lens, targets_concat, target_lens"
   ]
  },
  {
   "cell_type": "code",
   "execution_count": 3,
   "id": "f515a995-f18f-4919-afc4-590851373728",
   "metadata": {},
   "outputs": [
    {
     "ename": "NameError",
     "evalue": "name 'nn' is not defined",
     "output_type": "error",
     "traceback": [
      "\u001b[0;31m---------------------------------------------------------------------------\u001b[0m",
      "\u001b[0;31mNameError\u001b[0m                                 Traceback (most recent call last)",
      "Cell \u001b[0;32mIn[3], line 1\u001b[0m\n\u001b[0;32m----> 1\u001b[0m \u001b[38;5;28;01mclass\u001b[39;00m \u001b[38;5;21;01mMorseCTCModel\u001b[39;00m(\u001b[43mnn\u001b[49m\u001b[38;5;241m.\u001b[39mModule):\n\u001b[1;32m      2\u001b[0m     \u001b[38;5;28;01mdef\u001b[39;00m \u001b[38;5;21m__init__\u001b[39m(\u001b[38;5;28mself\u001b[39m, n_mels\u001b[38;5;241m=\u001b[39m\u001b[38;5;241m64\u001b[39m, num_classes\u001b[38;5;241m=\u001b[39m\u001b[38;5;28mlen\u001b[39m(vocab), lstm_hidden\u001b[38;5;241m=\u001b[39m\u001b[38;5;241m128\u001b[39m, lstm_layers\u001b[38;5;241m=\u001b[39m\u001b[38;5;241m2\u001b[39m):\n\u001b[1;32m      3\u001b[0m         \u001b[38;5;28msuper\u001b[39m()\u001b[38;5;241m.\u001b[39m\u001b[38;5;21m__init__\u001b[39m()\n",
      "\u001b[0;31mNameError\u001b[0m: name 'nn' is not defined"
     ]
    }
   ],
   "source": [
    "class MorseCTCModel(nn.Module):\n",
    "    def __init__(self, n_mels=64, num_classes=len(vocab), lstm_hidden=128, lstm_layers=2):\n",
    "        super().__init__()\n",
    "        # CNN‑encoder\n",
    "        self.cnn = nn.Sequential(\n",
    "            nn.Conv2d(1, 32, kernel_size=3, padding=1),\n",
    "            nn.BatchNorm2d(32),\n",
    "            nn.ReLU(inplace=True),\n",
    "            nn.MaxPool2d((2,2)),  # n_mels/2, T/2\n",
    "\n",
    "            nn.Conv2d(32, 32, kernel_size=3, padding=1),\n",
    "            nn.BatchNorm2d(32),\n",
    "            nn.ReLU(inplace=True),\n",
    "            nn.MaxPool2d((2,2)),  # n_mels/4, T/4\n",
    "        )\n",
    "        # размер признаков для LSTM\n",
    "        self.lstm_input_size = (n_mels // 4) * 32\n",
    "\n",
    "        self.lstm = nn.LSTM(\n",
    "            input_size=self.lstm_input_size,\n",
    "            hidden_size=lstm_hidden,\n",
    "            num_layers=lstm_layers,\n",
    "            batch_first=True,\n",
    "            bidirectional=True,\n",
    "            dropout=0.3 if lstm_layers > 1 else 0\n",
    "        )\n",
    "        self.classifier = nn.Linear(lstm_hidden * 2, num_classes)\n",
    "\n",
    "    def forward(self, x):\n",
    "        \"\"\"\n",
    "        x: [B, 1, n_mels, T]\n",
    "        \"\"\"\n",
    "        print(f\" forward {x.size()}\")\n",
    "        B = x.size(0)\n",
    "        x = self.cnn(x)  # [B, C, n_mels/4, T/4]\n",
    "        # подготовка для LSTM\n",
    "        x = x.permute(0, 3, 1, 2)             # [B, T', C, F]\n",
    "        Tprime = x.size(1)\n",
    "        x = x.contiguous().view(B, Tprime, -1)  # [B, T', C*F]\n",
    "\n",
    "        x, _ = self.lstm(x)                   # [B, T', 2*hidden]\n",
    "        x = self.classifier(x)                # [B, T', num_classes]\n",
    "        # CTC будет работать с log-probs\n",
    "        return x.log_softmax(dim=-1)"
   ]
  },
  {
   "cell_type": "code",
   "execution_count": null,
   "id": "cfc24088-e741-4f4e-852d-5aa149985b95",
   "metadata": {},
   "outputs": [],
   "source": []
  }
 ],
 "metadata": {
  "kernelspec": {
   "display_name": "Python 3 (ipykernel)",
   "language": "python",
   "name": "python3"
  },
  "language_info": {
   "codemirror_mode": {
    "name": "ipython",
    "version": 3
   },
   "file_extension": ".py",
   "mimetype": "text/x-python",
   "name": "python",
   "nbconvert_exporter": "python",
   "pygments_lexer": "ipython3",
   "version": "3.12.9"
  }
 },
 "nbformat": 4,
 "nbformat_minor": 5
}
