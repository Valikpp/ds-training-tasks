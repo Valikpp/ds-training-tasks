{
 "cells": [
  {
   "cell_type": "code",
   "execution_count": 1,
   "id": "0e534774-17be-4843-a49c-6dc41c2c1838",
   "metadata": {},
   "outputs": [],
   "source": [
    "import numpy as np\n",
    "import torch\n",
    "from torch import nn\n",
    "import torchvision\n",
    "from torchvision.transforms import v2\n",
    "from tqdm import tqdm\n"
   ]
  },
  {
   "cell_type": "code",
   "execution_count": 2,
   "id": "3573aa1c-55c6-49ec-ace1-d1946e9306e9",
   "metadata": {},
   "outputs": [
    {
     "name": "stderr",
     "output_type": "stream",
     "text": [
      "/home/vadimpp/.local/lib/python3.12/site-packages/torchvision/transforms/v2/_deprecated.py:42: UserWarning: The transform `ToTensor()` is deprecated and will be removed in a future release. Instead, please use `v2.Compose([v2.ToImage(), v2.ToDtype(torch.float32, scale=True)])`.Output is equivalent up to float precision.\n",
      "  warnings.warn(\n"
     ]
    }
   ],
   "source": [
    "transform = v2.Compose([v2.ToTensor(),\n",
    "     v2.Normalize(mean=[0.4914, 0.4822, 0.4465], std=[0.247, 0.243, 0.261])])\n",
    "\n",
    "batch_size = 32\n",
    "\n",
    "trainset = torchvision.datasets.CIFAR10(root='./data', train=True, download=True, transform=transform)\n",
    "trainloader = torch.utils.data.DataLoader(trainset, batch_size=batch_size,\n",
    "                                          shuffle=True, num_workers=2)\n",
    "\n",
    "testset = torchvision.datasets.CIFAR10(root='./data', train=False,\n",
    "                                       download=True, transform=transform)\n",
    "testloader = torch.utils.data.DataLoader(testset, batch_size=batch_size,\n",
    "                                         shuffle=False, num_workers=2)\n",
    "\n",
    "classes = ('plane', 'car', 'bird', 'cat',\n",
    "           'deer', 'dog', 'frog', 'horse', 'ship', 'truck')\n"
   ]
  },
  {
   "cell_type": "code",
   "execution_count": 3,
   "id": "8b09f9d4-9c7d-4edc-9fdd-a0357f0fc042",
   "metadata": {},
   "outputs": [],
   "source": [
    "class Cifar_model(nn.Module):\n",
    "    def __init__(self,in_channels,batch_size=32,output_size=10):\n",
    "        super(Cifar_model, self).__init__()\n",
    "        self.conv1 = nn.Conv2d(in_channels=in_channels, out_channels=32, kernel_size=5)\n",
    "        self.b_norm1 = nn.BatchNorm2d(32)\n",
    "        self.relu = nn.ReLU()\n",
    "        self.l_relu = nn.LeakyReLU()\n",
    "        self.pool1 = nn.MaxPool2d(kernel_size=2)\n",
    "\n",
    "        self.conv2 = nn.Conv2d(in_channels=32, out_channels=64, kernel_size=5)\n",
    "        self.b_norm2 = nn.BatchNorm2d(64)\n",
    "        self.pool2 = nn.MaxPool2d(kernel_size=2)\n",
    "\n",
    "        self.fc1 = nn.Linear(in_features=5*5*64,out_features=256)\n",
    "        self.fc2 = nn.Linear(in_features=256,out_features=64)\n",
    "        self.fc3 = nn.Linear(in_features=64, out_features=output_size)\n",
    "        self.softmax = nn.Softmax(dim=1)\n",
    "\n",
    "    def forward(self,x):\n",
    "\n",
    "        x = self.conv1(x)\n",
    "        x = self.b_norm1(x)\n",
    "        x = self.l_relu(x)\n",
    "        x = self.pool1(x)\n",
    "        \n",
    "        x = self.conv2(x)\n",
    "        x = self.b_norm2(x)\n",
    "        x = self.l_relu(x)\n",
    "        x = self.pool2(x)\n",
    "    \n",
    "        x = torch.flatten(x,1)\n",
    "        x = self.fc1(x)\n",
    "        x = self.relu(x)\n",
    "        x = self.fc2(x)\n",
    "        x = self.relu(x)\n",
    "        x = self.fc3(x)\n",
    "\n",
    "        return x     "
   ]
  },
  {
   "cell_type": "code",
   "execution_count": 4,
   "id": "42a8d3dc-75b4-422d-89a2-ca8c2e9d5cec",
   "metadata": {},
   "outputs": [],
   "source": [
    "model = Cifar_model(in_channels=3)"
   ]
  },
  {
   "cell_type": "code",
   "execution_count": 5,
   "id": "500f2095-c1ba-4f83-89e4-b2c9744768db",
   "metadata": {},
   "outputs": [],
   "source": [
    "criterion = nn.CrossEntropyLoss()\n",
    "optim = torch.optim.Adam(params=model.parameters(), lr=3e-4)"
   ]
  },
  {
   "cell_type": "code",
   "execution_count": 6,
   "id": "4ba91e0b-c2f3-4765-8897-833ed89dabb2",
   "metadata": {},
   "outputs": [
    {
     "name": "stderr",
     "output_type": "stream",
     "text": [
      "Epoch [1/5], loss_mean=1.326: 100%|█████████| 1563/1563 [00:28<00:00, 55.41it/s]\n",
      "Epoch [2/5], loss_mean=0.997: 100%|█████████| 1563/1563 [00:30<00:00, 51.90it/s]\n",
      "Epoch [3/5], loss_mean=0.858: 100%|█████████| 1563/1563 [00:30<00:00, 51.16it/s]\n",
      "Epoch [4/5], loss_mean=0.764: 100%|█████████| 1563/1563 [00:30<00:00, 51.59it/s]\n",
      "Epoch [5/5], loss_mean=0.689: 100%|█████████| 1563/1563 [00:30<00:00, 51.31it/s]\n"
     ]
    }
   ],
   "source": [
    "epochs = 5\n",
    "model.train()\n",
    "for ep in range(epochs):\n",
    "    lm_count = 0\n",
    "    loss_mean = 0.0 \n",
    "    tqdm_loader = tqdm(trainloader, leave=True)\n",
    "    for (x,y) in tqdm_loader:\n",
    "        pred = model(x)\n",
    "        loss = criterion(pred,y)\n",
    "        optim.zero_grad()\n",
    "        loss.backward()\n",
    "        optim.step()\n",
    "        lm_count += 1\n",
    "        loss_mean = 1/lm_count * loss.item() + (1 - 1/lm_count) * loss_mean\n",
    "        tqdm_loader.set_description(f\"Epoch [{ep+1}/{epochs}], loss_mean={loss_mean:.3f}\")"
   ]
  },
  {
   "cell_type": "code",
   "execution_count": 11,
   "id": "831b1554-44f0-4ca8-a620-6d82d5b28f7e",
   "metadata": {},
   "outputs": [
    {
     "name": "stdout",
     "output_type": "stream",
     "text": [
      "0.7261\n"
     ]
    }
   ],
   "source": [
    "Q = 0\n",
    "\n",
    "model.eval()\n",
    "\n",
    "for x_test, y_test in testloader:\n",
    "    with torch.no_grad():\n",
    "        p = model(x_test)\n",
    "        p = torch.argmax(p, dim=1)\n",
    "        #print(p[0],y_test[0])\n",
    "        Q += torch.sum(p == y_test).item()\n",
    " \n",
    "Q = Q/len(testset)\n",
    "print(Q)"
   ]
  },
  {
   "cell_type": "code",
   "execution_count": null,
   "id": "2a408e4c-47ea-4825-9cdf-3e77bee2ce5b",
   "metadata": {},
   "outputs": [],
   "source": []
  }
 ],
 "metadata": {
  "kernelspec": {
   "display_name": "Python 3 (ipykernel)",
   "language": "python",
   "name": "python3"
  },
  "language_info": {
   "codemirror_mode": {
    "name": "ipython",
    "version": 3
   },
   "file_extension": ".py",
   "mimetype": "text/x-python",
   "name": "python",
   "nbconvert_exporter": "python",
   "pygments_lexer": "ipython3",
   "version": "3.12.10"
  }
 },
 "nbformat": 4,
 "nbformat_minor": 5
}
