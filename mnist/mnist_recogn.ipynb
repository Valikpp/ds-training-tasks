{
 "cells": [
  {
   "cell_type": "code",
   "execution_count": 42,
   "id": "0dc351ca-1f5d-44f3-808b-cf1b0692aaaf",
   "metadata": {},
   "outputs": [],
   "source": [
    "import torch\n",
    "import torch.nn as nn\n",
    "import torch.nn.functional as F\n",
    "import torch.optim as optim\n",
    "from torchvision import datasets\n",
    "\n",
    "from torchvision.transforms import v2\n",
    "from tqdm import tqdm\n",
    "from torch.utils.data import DataLoader\n",
    "from PIL import Image"
   ]
  },
  {
   "cell_type": "code",
   "execution_count": 60,
   "id": "a5182518-cadd-4bc1-b8de-5b4fc68bd5b3",
   "metadata": {},
   "outputs": [],
   "source": [
    "dataset = datasets.MNIST(root=\"./mnist_dataset/\",download=True,transform=\n",
    "                         v2.Compose([\n",
    "                             v2.ToImage(), \n",
    "                             v2.ToDtype(torch.float32, scale=True),\n",
    "                             v2.Lambda(lambda x: x.squeeze(0).view(784))\n",
    "                         ]))\n",
    "train_set, val_set = torch.utils.data.random_split(dataset, [55000, 5000])"
   ]
  },
  {
   "cell_type": "code",
   "execution_count": null,
   "id": "c26ddc9b-8903-4714-bcb2-db88cd796214",
   "metadata": {},
   "outputs": [],
   "source": []
  },
  {
   "cell_type": "code",
   "execution_count": 61,
   "id": "0a7d0d6d-5781-4e45-bfc7-655070d05d0e",
   "metadata": {},
   "outputs": [],
   "source": [
    "class DigitNN(nn.Module):\n",
    "    def __init__(self,input_size,size_hidd_1,size_hidd_2,output_size):\n",
    "        super(DigitNN,self).__init__()\n",
    "        self.lin1 = nn.Linear(in_features=input_size,out_features=size_hidd_1,bias=True)\n",
    "        self.lin2 = nn.Linear(in_features=size_hidd_1,out_features=size_hidd_2,bias=True)\n",
    "        self.lin3 = nn.Linear(in_features=size_hidd_2,out_features=output_size,bias=True)\n",
    "\n",
    "    def forward(self,x):\n",
    "        x = self.lin1(x)\n",
    "        x = F.relu(x)\n",
    "        x = self.lin2(x)\n",
    "        x = F.relu(x)\n",
    "        x = self.lin3(x)\n",
    "        return x\n",
    "        \n",
    "        "
   ]
  },
  {
   "cell_type": "code",
   "execution_count": 62,
   "id": "e2258d2f-a72e-4fc4-b1f0-e0d924b93cc6",
   "metadata": {},
   "outputs": [],
   "source": [
    "model = DigitNN(28*28,256,64,10)"
   ]
  },
  {
   "cell_type": "code",
   "execution_count": 63,
   "id": "1de1404e-e649-471c-8b48-642c902aad12",
   "metadata": {},
   "outputs": [],
   "source": [
    "optimizer = optim.Adam(params=model.parameters(),lr=0.01) "
   ]
  },
  {
   "cell_type": "code",
   "execution_count": 64,
   "id": "89b8bcfe-a1ff-4461-9582-c1e598293d8a",
   "metadata": {},
   "outputs": [],
   "source": [
    "loss_function = nn.CrossEntropyLoss()"
   ]
  },
  {
   "cell_type": "code",
   "execution_count": 65,
   "id": "89742820-16ab-4346-9b84-f437bfd2daf1",
   "metadata": {},
   "outputs": [],
   "source": [
    "loader = DataLoader(train_set,batch_size=32,shuffle=True)"
   ]
  },
  {
   "cell_type": "code",
   "execution_count": 66,
   "id": "a6be8da6-9ec4-4fd3-8de3-e209e9333241",
   "metadata": {},
   "outputs": [
    {
     "name": "stderr",
     "output_type": "stream",
     "text": [
      "Epoch [1/2], loss_mean=0.280: 100%|█████████| 1719/1719 [00:17<00:00, 99.17it/s]\n",
      "Epoch [2/2], loss_mean=0.176: 100%|█████████| 1719/1719 [00:18<00:00, 94.13it/s]\n"
     ]
    }
   ],
   "source": [
    "epochs = 2 \n",
    "model.train()\n",
    "for epoch in range(epochs):\n",
    "    tqdm_loader = tqdm(loader,leave=True)\n",
    "    loss_mean = 0\n",
    "    lm_count = 0\n",
    "    for x_train, y_train in tqdm_loader:\n",
    "        predict = model(x_train)\n",
    "        loss = loss_function(predict,y_train)\n",
    "        optimizer.zero_grad()\n",
    "        loss.backward()\n",
    "        optimizer.step()\n",
    "        lm_count += 1\n",
    "        loss_mean = 1/lm_count * loss.item() + (1 - 1/lm_count) * loss_mean\n",
    "        tqdm_loader.set_description(f\"Epoch [{epoch+1}/{epochs}], loss_mean={loss_mean:.3f}\")\n",
    "        "
   ]
  },
  {
   "cell_type": "code",
   "execution_count": 67,
   "id": "c6b02fef-1c7e-4320-b738-6698b059d96d",
   "metadata": {},
   "outputs": [
    {
     "name": "stdout",
     "output_type": "stream",
     "text": [
      "0.9536\n"
     ]
    }
   ],
   "source": [
    "Q = 0\n",
    "\n",
    "model.eval()\n",
    "\n",
    "test_loader = DataLoader(val_set, batch_size=500, shuffle=False)\n",
    "for x_test, y_test in test_loader:\n",
    "    with torch.no_grad():\n",
    "        p = model(x_test)\n",
    "        p = torch.argmax(p, dim=1)\n",
    "        print(p[0],y_test[0])\n",
    "        Q += torch.sum(p == y_test).item()\n",
    " \n",
    "Q = Q/len(val_set)\n",
    "print(Q)"
   ]
  },
  {
   "cell_type": "code",
   "execution_count": null,
   "id": "74515805-aaa7-488b-8cee-338b6dcd3ed1",
   "metadata": {},
   "outputs": [],
   "source": []
  },
  {
   "cell_type": "code",
   "execution_count": null,
   "id": "d9dcd2f8-b898-45b4-9fa1-260c7c87390d",
   "metadata": {},
   "outputs": [],
   "source": []
  },
  {
   "cell_type": "code",
   "execution_count": null,
   "id": "4168588b-608d-454e-ab27-1715ff914964",
   "metadata": {},
   "outputs": [],
   "source": []
  }
 ],
 "metadata": {
  "kernelspec": {
   "display_name": "Python 3",
   "language": "python",
   "name": "python3"
  },
  "language_info": {
   "codemirror_mode": {
    "name": "ipython",
    "version": 3
   },
   "file_extension": ".py",
   "mimetype": "text/x-python",
   "name": "python",
   "nbconvert_exporter": "python",
   "pygments_lexer": "ipython3",
   "version": "3.12.9"
  }
 },
 "nbformat": 4,
 "nbformat_minor": 5
}
